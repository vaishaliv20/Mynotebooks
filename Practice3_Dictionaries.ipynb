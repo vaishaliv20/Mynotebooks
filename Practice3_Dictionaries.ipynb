{
 "cells": [
  {
   "cell_type": "markdown",
   "metadata": {},
   "source": [
    "# 1. Python dictionary with keys having multiple inputs"
   ]
  },
  {
   "cell_type": "markdown",
   "metadata": {},
   "source": [
    "Let us consider a dictionary where longitude and latitude are the keys and the place to which they belong to is the value."
   ]
  },
  {
   "cell_type": "code",
   "execution_count": null,
   "metadata": {},
   "outputs": [],
   "source": [
    "# dictionary containing longitude and latitude of places\n",
    "places = {(\"19.07'53.2\", \"72.54'51.0\"):\"Mumbai\", \\\n",
    "          (\"28.33'34.1\", \"77.06'16.6\"):\"Delhi\"}\n",
    " \n",
    "print(places)\n",
    "print('\\n')\n",
    " \n",
    "# Traversing dictionary with multi-keys and creating\n",
    "# different lists from it\n",
    "lat = []\n",
    "long = []\n",
    "plc = []\n",
    "for i in places:\n",
    "    lat.append(i[0])\n",
    "    long.append(i[1])\n",
    "    plc.append(places[i[0], i[1]])\n",
    "    \n",
    "print(lat)\n",
    "print(long)\n",
    "print(plc)\n",
    "\n",
    "#Now that the keys(latitude, longitude) and values(place) are stored in a list, we can access it easily."
   ]
  },
  {
   "cell_type": "markdown",
   "metadata": {},
   "source": [
    "# 2. To find the sum of all items in a dictionary"
   ]
  },
  {
   "cell_type": "code",
   "execution_count": null,
   "metadata": {},
   "outputs": [],
   "source": [
    "#Approach 1:\n",
    "#Using For loop to iterate through values using values() function\n",
    "#Iterate through each value of the dictionary using values() function and keep adding it to the sum. \n",
    "# Function to print sum\n",
    "def returnSum(dict):\n",
    "     sum = 0\n",
    "    for i in dict.values():\n",
    "           sum = sum + i\n",
    "      \n",
    "     return sum\n",
    "# Driver Function\n",
    "dict = {'a': 100, 'b':200, 'c':300}\n",
    "print(\"Sum :\", returnSum(dict))"
   ]
  },
  {
   "cell_type": "code",
   "execution_count": null,
   "metadata": {},
   "outputs": [],
   "source": [
    "#Approach 2: \n",
    "#Using For loop to iterate through items of Dictionary\n",
    "#Iterate through each item of the dictionary and simply keep adding the values to the sum variable. \n",
    "# Function to print sum\n",
    "def returnSum(dict):\n",
    "     sum = 0\n",
    "    for i in myDict:\n",
    "           sum = sum + dict[i]\n",
    "      \n",
    "     return sum\n",
    "# Driver Function\n",
    "dict = {'a': 100, 'b':200, 'c':300}\n",
    "print(\"Sum :\", returnSum(dict))"
   ]
  },
  {
   "cell_type": "markdown",
   "metadata": {},
   "source": [
    "# 3. Find the size of a Dictionary in Python"
   ]
  },
  {
   "cell_type": "markdown",
   "metadata": {},
   "source": [
    "# getsizeof() function:"
   ]
  },
  {
   "cell_type": "code",
   "execution_count": null,
   "metadata": {},
   "outputs": [],
   "source": [
    "#Approach 1:\n",
    "#Using getsizeof() function:\n",
    "#The getsizeof() function belongs to the python’s \"sys\" module.\n",
    "import sys\n",
    "  \n",
    "# sample Dictionaries\n",
    "dic1 = {\"A\": 1, \"B\": 2, \"C\": 3} \n",
    "dic2 = {\"Geek1\": \"Raju\", \"Geek2\": \"Nikhil\", \"Geek3\": \"Deepanshu\"}\n",
    "dic3 = {1: \"Lion\", 2: \"Tiger\", 3: \"Fox\", 4: \"Wolf\"}\n",
    "  \n",
    "# print the sizes of sample Dictionaries\n",
    "print(\"Size of dic1: \" + str(sys.getsizeof(dic1)) + \"bytes\")\n",
    "print(\"Size of dic2: \" + str(sys.getsizeof(dic2)) + \"bytes\")\n",
    "print(\"Size of dic3: \" + str(sys.getsizeof(dic3)) + \"bytes\")"
   ]
  },
  {
   "cell_type": "markdown",
   "metadata": {},
   "source": [
    "# sizeof__() method:"
   ]
  },
  {
   "cell_type": "code",
   "execution_count": null,
   "metadata": {},
   "outputs": [],
   "source": [
    "#Approach 2:\n",
    "#Using inbuilt sizeof__() method:\n",
    "#Python also has an inbuilt sizeof__() method to determine the space allocation of an object \n",
    "#without any additional garbage value. \n",
    "# sample Dictionaries\n",
    "dic1 = {\"A\": 1, \"B\": 2, \"C\": 3} \n",
    "dic2 = {\"Geek1\": \"Raju\", \"Geek2\": \"Nikhil\", \"Geek3\": \"Deepanshu\"}\n",
    "dic3 = {1: \"Lion\", 2: \"Tiger\", 3: \"Fox\", 4: \"Wolf\"}\n",
    "  \n",
    "# print the sizes of sample Dictionaries\n",
    "print(\"Size of dic1: \" + str(dic1.__sizeof__()) + \"bytes\")\n",
    "print(\"Size of dic2: \" + str(dic2.__sizeof__()) + \"bytes\")\n",
    "print(\"Size of dic3: \" + str(dic3.__sizeof__()) + \"bytes\")"
   ]
  },
  {
   "cell_type": "markdown",
   "metadata": {},
   "source": [
    "# 4. Convert Key-Value list Dictionary to List of Lists"
   ]
  },
  {
   "cell_type": "code",
   "execution_count": null,
   "metadata": {},
   "outputs": [],
   "source": [
    "#Approach 1:\n",
    "#Using list comprehension\n",
    "# initializing Dictionary\n",
    "test_dict = {'gfg' : [1, 3, 4], 'is' : [7, 6], 'best' : [4, 5]}\n",
    "  \n",
    "# printing original dictionary\n",
    "print(\"The original dictionary is : \" + str(test_dict))\n",
    "  \n",
    "# Convert Key-Value list Dictionary to Lists of List\n",
    "# Using list comprehension\n",
    "res = [[key] + val for key, val in test_dict.items()]\n",
    "  \n",
    "# printing result \n",
    "print(\"The converted list is : \" + str(res)) "
   ]
  },
  {
   "cell_type": "code",
   "execution_count": null,
   "metadata": {},
   "outputs": [],
   "source": [
    "#Approach 2:\n",
    "#Using loop + items()\n",
    "#In this, we loop through all the pairs and extract list value elements using items() and render in a new list.\n",
    "# initializing Dictionary\n",
    "test_dict = {'gfg' : [1, 3, 4], 'is' : [7, 6], 'best' : [4, 5]}\n",
    "  \n",
    "# printing original dictionary\n",
    "print(\"The original dictionary is : \" + str(test_dict))\n",
    "  \n",
    "# Convert Key-Value list Dictionary to Lists of List\n",
    "# Using loop + items()\n",
    "res = []\n",
    "for key, val in test_dict.items():\n",
    "    res.append([key] + val)\n",
    "\n",
    "# printing result \n",
    "print(\"The converted list is : \" + str(res)) "
   ]
  },
  {
   "cell_type": "markdown",
   "metadata": {},
   "source": [
    "# 5. Convert List to List of dictionaries"
   ]
  },
  {
   "cell_type": "markdown",
   "metadata": {},
   "source": [
    "Given list values and keys list, convert these values to key value pairs in form of list of dictionaries.\n",
    "\n",
    "Input : test_list = [“Gfg”, 3, “is”, 8], key_list = [“name”, “id”]\n",
    "Output : [{‘name’: ‘Gfg’, ‘id’: 3}, {‘name’: ‘is’, ‘id’: 8}]\n",
    "Explanation : Values mapped by custom key, “name” -> “Gfg”, “id” -> 3."
   ]
  },
  {
   "cell_type": "code",
   "execution_count": null,
   "metadata": {},
   "outputs": [],
   "source": [
    "#Approach 1:\n",
    "#Using dictionary comprehension + list comprehension\n",
    "# initializing lists\n",
    "test_list = [\"Gfg\", 3, \"is\", 8, \"Best\", 10, \"for\", 18, \"Geeks\", 33]\n",
    "  \n",
    "# printing original list\n",
    "print(\"The original list : \" + str(test_list))\n",
    "  \n",
    "# initializing key list \n",
    "key_list = [\"name\", \"number\"]\n",
    "  \n",
    "# using list comprehension to perform as shorthand\n",
    "n = len(test_list)\n",
    "res = [{key_list[0]: test_list[idx], key_list[1]: test_list[idx + 1]}\n",
    "       for idx in range(0, n, 2)]\n",
    "  \n",
    "# printing result \n",
    "print(\"The constructed dictionary list : \" + str(res))"
   ]
  },
  {
   "cell_type": "code",
   "execution_count": null,
   "metadata": {},
   "outputs": [],
   "source": [
    "#Approach 2:\n",
    "#Using loop + dictionary comprehension\n",
    "# initializing lists\n",
    "test_list = [\"Gfg\", 3, \"is\", 8, \"Best\", 10, \"for\", 18, \"Geeks\", 33]\n",
    "  \n",
    "# printing original list\n",
    "print(\"The original list : \" + str(test_list))\n",
    "  \n",
    "# initializing key list \n",
    "key_list = [\"name\", \"number\"]\n",
    "  \n",
    "# loop to iterate through elements\n",
    "# using dictionary comprehension\n",
    "# for dictionary construction\n",
    "n = len(test_list)\n",
    "res = []\n",
    "for idx in range(0, n, 2):\n",
    "    res.append({key_list[0]: test_list[idx], key_list[1] : test_list[idx + 1]})\n",
    "# printing result \n",
    "print(\"The constructed dictionary list : \" + str(res))"
   ]
  },
  {
   "cell_type": "code",
   "execution_count": null,
   "metadata": {},
   "outputs": [],
   "source": []
  },
  {
   "cell_type": "code",
   "execution_count": null,
   "metadata": {},
   "outputs": [],
   "source": []
  },
  {
   "cell_type": "code",
   "execution_count": null,
   "metadata": {},
   "outputs": [],
   "source": []
  },
  {
   "cell_type": "code",
   "execution_count": null,
   "metadata": {},
   "outputs": [],
   "source": []
  },
  {
   "cell_type": "code",
   "execution_count": null,
   "metadata": {},
   "outputs": [],
   "source": []
  },
  {
   "cell_type": "code",
   "execution_count": null,
   "metadata": {},
   "outputs": [],
   "source": []
  },
  {
   "cell_type": "code",
   "execution_count": null,
   "metadata": {},
   "outputs": [],
   "source": []
  }
 ],
 "metadata": {
  "kernelspec": {
   "display_name": "Python 3",
   "language": "python",
   "name": "python3"
  },
  "language_info": {
   "codemirror_mode": {
    "name": "ipython",
    "version": 3
   },
   "file_extension": ".py",
   "mimetype": "text/x-python",
   "name": "python",
   "nbconvert_exporter": "python",
   "pygments_lexer": "ipython3",
   "version": "3.8.5"
  }
 },
 "nbformat": 4,
 "nbformat_minor": 4
}
