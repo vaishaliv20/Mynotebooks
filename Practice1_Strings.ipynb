{
 "cells": [
  {
   "cell_type": "markdown",
   "metadata": {},
   "source": [
    "# Python String Concatenation"
   ]
  },
  {
   "cell_type": "markdown",
   "metadata": {},
   "source": [
    "In Python, Strings are arrays of bytes representing Unicode characters. However, Python does not have a character data type, a single character is simply a string with a length of 1. Square brackets [] can be used to access elements of the string."
   ]
  },
  {
   "cell_type": "markdown",
   "metadata": {},
   "source": [
    "String Concatenation is the technique of combining two strings. String Concatenation can be done using many ways.\n",
    "We can perform string concatenation using following ways:\n",
    " \n",
    "\n",
    "1). Using + operator \n",
    " \n",
    "2). Using join() method \n",
    " \n",
    "3). Using % operator \n",
    " \n",
    "4). Using format() function \n",
    " \n",
    "5). Using , (comma)"
   ]
  },
  {
   "cell_type": "markdown",
   "metadata": {},
   "source": [
    "Using join() Method:\n",
    "The join() method is a string method and returns a string in which the elements of sequence have been joined by str separator. The join method accepts only the list as it’s argument and list size can be anything. We can store the combined string in another variable var3 which is separated by space."
   ]
  },
  {
   "cell_type": "code",
   "execution_count": null,
   "metadata": {},
   "outputs": [],
   "source": [
    "var1 = \"Hello\"\n",
    "var2 = \"World\"\n",
    " \n",
    "# join() method is used to combine the strings\n",
    "print(\"\".join([var1, var2]))  #Output- HelloWorld\n",
    "\n",
    "# join() method is used here to combine\n",
    "# the string with a separator Space(\" \")\n",
    "var3 = \" \".join([var1, var2])  #Output- Hello World\n",
    " \n",
    "print(var3)"
   ]
  },
  {
   "cell_type": "markdown",
   "metadata": {},
   "source": [
    "Using % Operator:\n",
    "We can use % operator for string formatting, it can also be used for string concatenation. It’s useful when we want to concatenate strings and perform simple formatting. The %s denotes string data type. "
   ]
  },
  {
   "cell_type": "code",
   "execution_count": null,
   "metadata": {},
   "outputs": [],
   "source": [
    "var1 = \"Hello\"\n",
    "var2 = \"World\"\n",
    " \n",
    "# % Operator is used here to combine the string\n",
    "print(\"% s % s\" % (var1, var2))"
   ]
  },
  {
   "cell_type": "markdown",
   "metadata": {},
   "source": [
    "Using format() function \n",
    "str.format() is one of the string formatting methods in Python, which allows multiple substitutions and value formatting. This method lets us concatenate elements within a string through positional formatting."
   ]
  },
  {
   "cell_type": "code",
   "execution_count": null,
   "metadata": {},
   "outputs": [],
   "source": [
    "var1 = \"Hello\"\n",
    "var2 = \"World\"\n",
    " \n",
    "# format function is used here to\n",
    "# combine the string\n",
    "print(\"{} {}\".format(var1, var2))\n",
    " \n",
    "# store the result in another variable\n",
    "var3 = \"{} {}\".format(var1, var2)\n",
    " \n",
    "print(var3)"
   ]
  },
  {
   "cell_type": "markdown",
   "metadata": {},
   "source": [
    "Using , (comma)\n",
    " \n",
    "“,” is a great alternative to string concatenation using “+”. when you want to include a single whitespace."
   ]
  },
  {
   "cell_type": "code",
   "execution_count": null,
   "metadata": {},
   "outputs": [],
   "source": [
    "var1 = \"Hello\"\n",
    "var2 = \"World\"\n",
    " \n",
    "# , to combine data types with a single whitespace.\n",
    "print(var1, var2)"
   ]
  },
  {
   "cell_type": "markdown",
   "metadata": {},
   "source": [
    "# 1. To check whether the string is Symmetrical or Palindrome"
   ]
  },
  {
   "cell_type": "code",
   "execution_count": null,
   "metadata": {},
   "outputs": [],
   "source": [
    "#Approach 1:\n",
    "#Use slicing.\n",
    "#Without user defined function use\n",
    "\n",
    "string = 'amaama'\n",
    "half = int(len(string) / 2)\n",
    " \n",
    "if len(string) % 2 == 0:  # even\n",
    "    first_str = string[:half]\n",
    "    second_str = string[half:]\n",
    "else:  # odd\n",
    "    first_str = string[:half]\n",
    "    second_str = string[half+1:]\n",
    "#symmetric\n",
    "if first_str == second_str:\n",
    "    print(string, 'string is symmertical')\n",
    "else:\n",
    "    print(string, 'string is not symmertical')\n",
    "# palindrome\n",
    "if first_str == second_str[::-1]:  # ''.join(reversed(second_str)) [slower]\n",
    "    print(string, 'string is palindrome')\n",
    "else:\n",
    "    print(string, 'string is not palindrome')"
   ]
  },
  {
   "cell_type": "markdown",
   "metadata": {},
   "source": [
    "# Join() and Reversed() method:"
   ]
  },
  {
   "cell_type": "code",
   "execution_count": null,
   "metadata": {},
   "outputs": [],
   "source": [
    "#Approach 1:\n",
    "#In the case of palindrome, a loop is run to the mid of the string and the first and last characters are matched. \n",
    "#If the characters are not similar then the loop breaks and the string is not palindrome otherwise the string is a palindrome. \n",
    "#In the case of symmetry, if the string length is even then the string is broken into two halves and the loop is run, checking the characters of the strings of both the half. \n",
    "#If the characters are not similar then the loops break and the string is not symmetrical otherwise the string is symmetrical. \n",
    "#If the string length is odd then the string is broken into two halves in such a way that the middle element is left unchecked, and the above same step is repeated.\n",
    "\n",
    "# Function to check whether the\n",
    "# string is palindrome or not\n",
    "def palindrome(a):\n",
    "  \n",
    "    # finding the mid, start\n",
    "    # and last index of the string\n",
    "    mid = (len(a)-1)//2     #you can remove the -1 or you add <= sign in line 21 \n",
    "    start = 0                #so that you can compare the middle elements also.\n",
    "    last = len(a)-1\n",
    "    flag = 0\n",
    " \n",
    "    # A loop till the mid of the string\n",
    "    while(start <= mid):\n",
    "  \n",
    "        # comparing letters from right\n",
    "        # from the letters from left\n",
    "        if (a[start]== a[last]):\n",
    "             \n",
    "            start += 1\n",
    "            last -= 1\n",
    "             \n",
    "        else:\n",
    "            flag = 1\n",
    "            break;\n",
    "             \n",
    "    # Checking the flag variable to\n",
    "    # check if the string is palindrome\n",
    "    # or not\n",
    "    if flag == 0:\n",
    "        print(\"The entered string is palindrome\")\n",
    "    else:\n",
    "        print(\"The entered string is not palindrome\")\n",
    "         \n",
    "# Function to check whether the\n",
    "# string is symmetrical or not       \n",
    "def symmetry(a):\n",
    "     \n",
    "    n = len(a)\n",
    "    flag = 0\n",
    "     \n",
    "    # Check if the string's length\n",
    "    # is odd or even\n",
    "    if n%2:\n",
    "        mid = n//2 +1\n",
    "    else:\n",
    "        mid = n//2\n",
    "         \n",
    "    start1 = 0\n",
    "    start2 = mid\n",
    "     \n",
    "    while(start1 < mid and start2 < n):\n",
    "         \n",
    "        if (a[start1]== a[start2]):\n",
    "            start1 = start1 + 1\n",
    "            start2 = start2 + 1\n",
    "        else:\n",
    "            flag = 1\n",
    "            break\n",
    "      \n",
    "    # Checking the flag variable to\n",
    "    # check if the string is symmetrical\n",
    "    # or not\n",
    "    if flag == 0:\n",
    "        print(\"The entered string is symmetrical\")\n",
    "    else:\n",
    "        print(\"The entered string is not symmetrical\")\n",
    "         \n",
    "# Driver code\n",
    "string = 'amaama'\n",
    "palindrome(string)\n",
    "symmetry(string)"
   ]
  },
  {
   "cell_type": "markdown",
   "metadata": {},
   "source": [
    "# Python String Interpolation"
   ]
  },
  {
   "cell_type": "markdown",
   "metadata": {},
   "source": [
    "String Interpolation is the process of substituting values of variables into placeholders in a string. Let’s consider an example to understand it better, suppose you want to change the value of the string every time you print the string like you want to print “hello <name> welcome to geeksforgeeks” where the <name> is the placeholder for the name of the user. Instead of creating a new string every time, string interpolation in Python can help you to dynamically change the placeholder with the name of the user. "
   ]
  },
  {
   "cell_type": "markdown",
   "metadata": {},
   "source": [
    "% – Formatting\n",
    "% – Formatting is a feature provided by Python which can be accessed with a % operator. This is similar to printf style function in C."
   ]
  },
  {
   "cell_type": "code",
   "execution_count": null,
   "metadata": {},
   "outputs": [],
   "source": [
    "n1 = 'Hello'\n",
    "n2 = 'GeeksforGeeks'\n",
    " \n",
    "# for single substitution\n",
    "print(\"Welcome to % s\" % n2)\n",
    " \n",
    "# for single and multiple substitutions()\n",
    "# mandatory\n",
    "print(\"% s ! This is % s.\" % (n1, n2))\n",
    "\n",
    "#Output:\n",
    "Welcome to GeeksforGeeks\n",
    "Hello ! This is GeeksforGeeks."
   ]
  },
  {
   "cell_type": "markdown",
   "metadata": {},
   "source": [
    "Str.format()\n",
    "str.format()work by putting in one or more replacement fields and placeholders defined by a pair of curly braces { } into a string. The value we wish to put into the placeholders and concatenate with the string passed as parameters into the format function."
   ]
  },
  {
   "cell_type": "code",
   "execution_count": null,
   "metadata": {},
   "outputs": [],
   "source": [
    "n1 = 'Hello'\n",
    "n2 = 'GeeksforGeeks'\n",
    " \n",
    "# for single substitution\n",
    "print('{}, {}'.format(n1, n2))"
   ]
  },
  {
   "cell_type": "code",
   "execution_count": null,
   "metadata": {},
   "outputs": [],
   "source": [
    "n1 = \"Hello\"\n",
    "n2 = \"GeeksForGeeks\"\n",
    " \n",
    "# for single or multiple substitutions\n",
    "# let's say b1 and b2 are formal parameters\n",
    "# and n1 and n2 are actual parameters\n",
    "print(\"{b1}! This is {b2}.\".format(b1=n1, b2=n2))\n",
    " \n",
    "# we can also change the order of the\n",
    "# variables in the string without changing\n",
    "# the parameters of format function\n",
    "print(\"{b2}! This is {b1}.\".format(b1=n1, b2=n2))"
   ]
  },
  {
   "cell_type": "code",
   "execution_count": null,
   "metadata": {},
   "outputs": [],
   "source": []
  },
  {
   "cell_type": "code",
   "execution_count": null,
   "metadata": {},
   "outputs": [],
   "source": []
  },
  {
   "cell_type": "markdown",
   "metadata": {},
   "source": [
    "# 2. Reverse words in a given String in Python"
   ]
  },
  {
   "cell_type": "code",
   "execution_count": null,
   "metadata": {},
   "outputs": [],
   "source": [
    "#Approach 1:\n",
    "#Separate each word in given string using split() method of string data type in python.\n",
    "#Reverse the word separated list.\n",
    "#Print words of list, in string form after joining each word with space using ” “.join() method in python.\n",
    "# Function to reverse words of string \n",
    "  \n",
    "def rev_sentence(sentence): \n",
    "  \n",
    "    # first split the string into words \n",
    "    words = sentence.split(' ') \n",
    "  \n",
    "    # then reverse the split string list and join using space and reversed method\n",
    "    reverse_sentence = ' '.join(reversed(words)) \n",
    "  \n",
    "    # finally return the joined string \n",
    "    return reverse_sentence \n",
    "  \n",
    "if __name__ == \"__main__\": \n",
    "    input = 'geeks quiz practice code'\n",
    "    print (rev_sentence(input))"
   ]
  },
  {
   "cell_type": "markdown",
   "metadata": {},
   "source": [
    "# split() method:"
   ]
  },
  {
   "cell_type": "markdown",
   "metadata": {},
   "source": [
    "# 3. Ways to remove i’th character from string in Python"
   ]
  },
  {
   "cell_type": "code",
   "execution_count": null,
   "metadata": {},
   "outputs": [],
   "source": [
    "#Approach 1:\n",
    "#Using str.join() and list comprehension\n",
    "#In this method, each element of string is first converted as each element of list, \n",
    "#and then each of them is joined to form a string except the specified index.\n",
    "\n",
    "# Initializing String \n",
    "test_str = \"GeeksForGeeks\"\n",
    "  \n",
    "# Printing original string \n",
    "print (\"The original string is : \" + test_str)\n",
    "  \n",
    "# Removing char at pos 3\n",
    "# using join() + list comprehension\n",
    "new_str = ''.join([test_str[i] for i in range(len(test_str)) if i != 2])\n",
    "  \n",
    "# Printing string after removal  \n",
    "# removes ele. at 3rd index\n",
    "print (\"The string after removal of i'th character : \" + new_str)"
   ]
  },
  {
   "cell_type": "code",
   "execution_count": null,
   "metadata": {},
   "outputs": [],
   "source": [
    "#Approach 2:\n",
    "#Using slice + concatenation\n",
    "#Once can use string slice and slice the string before the pos i, and slice after the pos i.\n",
    "#Then using string concatenation of both, i’th character can appear to be deleted from the string.\n",
    "# Initializing String \n",
    "test_str = \"GeeksForGeeks\"\n",
    "  \n",
    "# Printing original string \n",
    "print (\"The original string is : \" + test_str)\n",
    "  \n",
    "# Removing char at pos 3\n",
    "# using slice + concatenation\n",
    "new_str = test_str[:2] +  test_str[3:]\n",
    "  \n",
    "# Printing string after removal  \n",
    "# removes ele. at 3rd index\n",
    "print (\"The string after removal of i'th character : \" + new_str)"
   ]
  },
  {
   "cell_type": "markdown",
   "metadata": {},
   "source": [
    "# Replace() method:"
   ]
  },
  {
   "cell_type": "code",
   "execution_count": null,
   "metadata": {},
   "outputs": [],
   "source": [
    "#Approach 3:\n",
    "#Using str.replace()\n",
    "\n",
    "# Initializing String \n",
    "test_str = \"GeeksForGeeks\"\n",
    "  \n",
    "# Printing original string \n",
    "print (\"The original string is : \" + test_str)\n",
    "  \n",
    "# Removing char at pos 3\n",
    "# using replace\n",
    "new_str = test_str.replace('e', '')\n",
    "  \n",
    "# Printing string after removal  \n",
    "# removes all occurrences of 'e'\n",
    "print (\"The string after removal of i'th character( doesn't work) : \" + new_str)\n",
    "  \n",
    "# Removing 1st occurrence of s, i.e 5th pos.\n",
    "# if we wish to remove it.\n",
    "new_str = test_str.replace('s', '', 1)\n",
    "  \n",
    "# Printing string after removal  \n",
    "# removes first occurrences of s\n",
    "print (\"The string after removal of i'th character(works) : \" + new_str)"
   ]
  },
  {
   "cell_type": "markdown",
   "metadata": {},
   "source": [
    "# 4. Convert numeric words to numbers\n",
    "#Sometimes, while working with python Strings, we can have a problem in which we need to convert the strings that are in form of named numbers to actual numbers."
   ]
  },
  {
   "cell_type": "code",
   "execution_count": null,
   "metadata": {},
   "outputs": [],
   "source": [
    "#Approach 1:\n",
    "#Using word2number library\n",
    "#This problem can also be solved using PyPI library word2number. \n",
    "#It has inbuilt functions that converts words to numbers.\n",
    "from word2number import w2n\n",
    "  \n",
    "# initializing string\n",
    "test_str = \"zero four zero one\"\n",
    "  \n",
    "# printing original string\n",
    "print(\"The original string is : \" + test_str)\n",
    "  \n",
    "# Convert numeric words to numbers\n",
    "# Using word2number\n",
    "res = w2n.word_to_num(test_str)\n",
    "  \n",
    "# printing result \n",
    "print(\"The string after performing replace : \" + str(res)) "
   ]
  },
  {
   "cell_type": "markdown",
   "metadata": {},
   "source": [
    "# word2number library:"
   ]
  },
  {
   "cell_type": "code",
   "execution_count": null,
   "metadata": {},
   "outputs": [],
   "source": [
    "#Approach2:\n",
    "#Using loop + join() + split()\n",
    "#Map the numeric with words and then split the strings and rejoin using mapping to numbers.\n",
    "  \n",
    "help_dict = {\n",
    "    'one': '1',\n",
    "    'two': '2',\n",
    "    'three': '3',\n",
    "    'four': '4',\n",
    "    'five': '5',\n",
    "    'six': '6',\n",
    "    'seven': '7',\n",
    "    'eight': '8',\n",
    "    'nine': '9',\n",
    "    'zero' : '0'\n",
    "}\n",
    "  \n",
    "# initializing string\n",
    "test_str = \"two five seven three\"\n",
    "  \n",
    "# printing original string\n",
    "print(\"The original string is : \" + test_str)\n",
    "  \n",
    "# Convert numeric words to numbers\n",
    "# Using join() + split()\n",
    "res = ''.join(help_dict[ele] for ele in test_str.split())\n",
    "  \n",
    "# printing result \n",
    "print(\"The string after performing replace : \" + res) "
   ]
  },
  {
   "cell_type": "markdown",
   "metadata": {},
   "source": [
    "# 5. Word location in String\n",
    "#Sometimes, while working with Python strings, we can have problem in which we need to find location of a particular word. "
   ]
  },
  {
   "cell_type": "code",
   "execution_count": null,
   "metadata": {},
   "outputs": [],
   "source": [
    "#Approach 1:\n",
    "#Using re.findall() + index()\n",
    "#we can find the location where word exists. \n",
    "#In this we look for substring pattern using findall() and its position using index().\n",
    "# Word location in String\n",
    "# Using findall() + index()\n",
    "\n",
    "import re \n",
    "          \n",
    "# initializing string\n",
    "test_str = 'geeksforgeeks is best for geeks'\n",
    "  \n",
    "# printing original string\n",
    "print(\"The original string is : \" + test_str)\n",
    "  \n",
    "# initializing word \n",
    "wrd = 'best'\n",
    "  \n",
    "# Word location in String\n",
    "# Using findall() + index()\n",
    "test_str = test_str.split()\n",
    "res = -1\n",
    "for idx in test_str:\n",
    "    if len(re.findall(wrd, idx)) > 0:\n",
    "        res = test_str.index(idx) + 1\n",
    "# printing result \n",
    "print(\"The location of word is : \" + str(res)) \n"
   ]
  },
  {
   "cell_type": "raw",
   "metadata": {},
   "source": [
    "\"re\" module: A regular expression (or RE or RegEx) specifies a set of strings that matches it; the functions in this module let you check if a particular string matches a given regular expression and vice-versa.                                     "
   ]
  },
  {
   "cell_type": "markdown",
   "metadata": {},
   "source": [
    "# findall() and index() method:"
   ]
  },
  {
   "cell_type": "markdown",
   "metadata": {},
   "source": [
    "# re.sub() method:"
   ]
  },
  {
   "cell_type": "code",
   "execution_count": null,
   "metadata": {},
   "outputs": [],
   "source": [
    "#Approach 2:\n",
    "#Using re.sub() + index()\n",
    "#use different regex function in this method.\n",
    "import re\n",
    "  \n",
    "# initializing string\n",
    "test_str = 'geeksforgeeks is best for geeks'\n",
    "  \n",
    "# printing original string\n",
    "print(\"The original string is : \" + test_str)\n",
    "  \n",
    "# initializing word \n",
    "wrd = 'best'\n",
    "  \n",
    "# Word location in String\n",
    "# Using re.sub() + index()\n",
    "res = re.sub(\"[^\\w]\", \" \",  test_str).split()\n",
    "res = res.index(wrd) + 1\n",
    "  \n",
    "# printing result \n",
    "print(\"The location of word is : \" + str(res)) "
   ]
  },
  {
   "cell_type": "markdown",
   "metadata": {},
   "source": [
    "# 6. Check if a Substring is Present in a Given String"
   ]
  },
  {
   "cell_type": "markdown",
   "metadata": {},
   "source": [
    "# re.search() method:"
   ]
  },
  {
   "cell_type": "markdown",
   "metadata": {},
   "source": [
    "# format() method:"
   ]
  },
  {
   "cell_type": "code",
   "execution_count": null,
   "metadata": {},
   "outputs": [],
   "source": [
    "#Approach 1:\n",
    "#Using regular expressions\n",
    "#RegEx can be used to check if a string contains the specified search pattern.\n",
    "import re\n",
    "  \n",
    "# Take input from users\n",
    "MyString1 =  \"A geek in need is a geek indeed\"\n",
    "MyString2 =\"geek\"\n",
    "  \n",
    "# re.search() returns a Match object if there is a match anywhere in the string\n",
    "if re.search( MyString2, MyString1 ):\n",
    "    print(\"YES,string '{0}' is present in string '{1}' \" .format(MyString2,MyString1))\n",
    "else:\n",
    "    print(\"NO,string '{0}' is not present in string {1} \" .format(MyString2, MyString1) )"
   ]
  },
  {
   "cell_type": "markdown",
   "metadata": {},
   "source": [
    "# find() method:"
   ]
  },
  {
   "cell_type": "code",
   "execution_count": null,
   "metadata": {},
   "outputs": [],
   "source": [
    "#Approach 2:\n",
    "#Python provides us an inbuilt function find() which checks if a substring is present in the string, which is done in one line.\n",
    "#find() function returns -1 if it is not found, else it returns the first occurrence, \n",
    "#so using this function this problem can be solved.\n",
    "\n",
    "def check(string, sub_str):\n",
    "    if (string.find(sub_str) == -1):\n",
    "        print(\"NO\")\n",
    "    else:\n",
    "        print(\"YES\")\n",
    "            \n",
    "# driver code\n",
    "string = \"geeks for geeks\"\n",
    "sub_str =\"geek\"\n",
    "check(string, sub_str)"
   ]
  },
  {
   "cell_type": "markdown",
   "metadata": {},
   "source": [
    "# count() method:"
   ]
  },
  {
   "cell_type": "code",
   "execution_count": null,
   "metadata": {},
   "outputs": [],
   "source": [
    "#Approach 3:\n",
    "#Using “count()” method:-\n",
    "\n",
    "def check(s2, s1): \n",
    "    if (s2.count(s1)>0):     \n",
    "        print(\"YES\") \n",
    "    else: \n",
    "        print(\"NO\") \n",
    "              \n",
    "s2 = \"A geek in need is a geek indeed\"\n",
    "s1 =\"geek\"\n",
    "check(s2, s1) "
   ]
  },
  {
   "cell_type": "markdown",
   "metadata": {},
   "source": [
    "# 7. Substring presence in Strings List"
   ]
  },
  {
   "cell_type": "markdown",
   "metadata": {},
   "source": [
    "# any() method:"
   ]
  },
  {
   "cell_type": "code",
   "execution_count": null,
   "metadata": {},
   "outputs": [],
   "source": [
    "#Approach 1:\n",
    "#Using list comprehension + any()\n",
    "#we check for any sublist using any() and list comprehension is used to perform iteration.\n",
    "# initializing lists\n",
    "test_list1 = [\"Gfg\", \"is\", \"Best\"]\n",
    "test_list2 = [\"I love Gfg\", \"Its Best for Geeks\", \"Gfg means CS\"]\n",
    "  \n",
    "# printing original lists\n",
    "print(\"The original list 1 : \" + str(test_list1))\n",
    "print(\"The original list 2 : \" + str(test_list2))\n",
    "  \n",
    "# any() reduces a nesting\n",
    "# checks for element presence in all Substrings\n",
    "res = [True if any(i in j for j in test_list2) else False for i in test_list1]\n",
    "  \n",
    "# printing result \n",
    "print(\"The match list : \" + str(res))"
   ]
  },
  {
   "cell_type": "code",
   "execution_count": null,
   "metadata": {},
   "outputs": [],
   "source": [
    "#Approach 2:\n",
    "# Using loop\n",
    "  \n",
    "# initializing lists\n",
    "test_list1 = [\"Gfg\", \"is\", \"Best\"]\n",
    "test_list2 = [\"I love Gfg\", \"Its Best for Geeks\", \"Gfg means CS\"]\n",
    "  \n",
    "# printing original lists\n",
    "print(\"The original list 1 : \" + str(test_list1))\n",
    "print(\"The original list 2 : \" + str(test_list2))\n",
    "  \n",
    "# using loop to iterate\n",
    "res = []\n",
    "for ele in test_list1 :\n",
    "    temp = False\n",
    "    \n",
    "  # inner loop to check for\n",
    "  # presence of element in any list\n",
    "    for sub in test_list2 :\n",
    "        if ele in sub:\n",
    "        temp = True\n",
    "        break    \n",
    "    res.append(temp)\n",
    "    \n",
    "# printing result \n",
    "print(\"The match list : \" + str(res))"
   ]
  },
  {
   "cell_type": "markdown",
   "metadata": {},
   "source": [
    "# 8. Words Frequency in String Shorthands\n",
    "#e.g.- Input : test_str = ‘Gfg is best’, Output : {‘Gfg’: 1, ‘is’: 1, ‘best’: 1}"
   ]
  },
  {
   "cell_type": "code",
   "execution_count": null,
   "metadata": {},
   "outputs": [],
   "source": [
    "#Approach 1:\n",
    "#Using dictionary comprehension + count() + split()\n",
    "#In this, we first split all the words and then perform count of them using count().\n",
    "# initializing string\n",
    "test_str = 'Gfg is best . Geeks are good and Geeks like Gfg'\n",
    "  \n",
    "# printing original string\n",
    "print(\"The original string is : \" + str(test_str))\n",
    "  \n",
    "# Words Frequency in String Shorthands\n",
    "# Using dictionary comprehension + count() + split()\n",
    "res = {key: test_str.count(key) for key in test_str.split()}\n",
    "  \n",
    "# printing result \n",
    "print(\"The words frequency : \" + str(res))"
   ]
  },
  {
   "cell_type": "raw",
   "metadata": {},
   "source": [
    "Counter() method:\n",
    "\"Counter\" is a container that will hold the count of each of the elements present in the container. \n",
    "Counter is a sub-class available inside the dictionary class. \n",
    "Using the Python Counter tool, you can count the key-value pairs in an object, also called a hashtable object."
   ]
  },
  {
   "cell_type": "code",
   "execution_count": null,
   "metadata": {},
   "outputs": [],
   "source": [
    "#Approach 2:\n",
    "#Using Counter() + split(). \n",
    "#In this, we perform the task of counting using Counter() and separation of words using split().\n",
    "from collections import Counter\n",
    "  \n",
    "# initializing string\n",
    "test_str = 'Gfg is best . Geeks are good and Geeks like Gfg'\n",
    "  \n",
    "# printing original string\n",
    "print(\"The original string is : \" + str(test_str))\n",
    "  \n",
    "# Words Frequency in String Shorthands\n",
    "# Using Counter() + split()\n",
    "res = Counter(test_str.split())\n",
    "  \n",
    "# printing result \n",
    "print(\"The words frequency : \" + str(dict(res))) "
   ]
  },
  {
   "cell_type": "markdown",
   "metadata": {},
   "source": [
    "# 9. String Slicing in Python"
   ]
  },
  {
   "cell_type": "markdown",
   "metadata": {},
   "source": [
    "# slice() constructor: The slice() constructor creates a slice object representing the set of indices specified by range(start, stop, step)."
   ]
  },
  {
   "cell_type": "code",
   "execution_count": null,
   "metadata": {},
   "outputs": [],
   "source": [
    "# String slicing \n",
    "String ='ASTRING'\n",
    "  \n",
    "# Using slice constructor\n",
    "s1 = slice(3)\n",
    "s2 = slice(1, 5, 2) \n",
    "s3 = slice(-1, -12, -2)\n",
    "  \n",
    "print(\"String slicing\") \n",
    "print(String[s1]) \n",
    "print(String[s2]) \n",
    "print(String[s3])\n",
    "\n",
    "\n",
    "#Output:\n",
    "#String slicing\n",
    "#AST\n",
    "#SR\n",
    "#GITA"
   ]
  },
  {
   "cell_type": "code",
   "execution_count": null,
   "metadata": {},
   "outputs": [],
   "source": []
  },
  {
   "cell_type": "code",
   "execution_count": null,
   "metadata": {},
   "outputs": [],
   "source": []
  }
 ],
 "metadata": {
  "kernelspec": {
   "display_name": "Python 3",
   "language": "python",
   "name": "python3"
  },
  "language_info": {
   "codemirror_mode": {
    "name": "ipython",
    "version": 3
   },
   "file_extension": ".py",
   "mimetype": "text/x-python",
   "name": "python",
   "nbconvert_exporter": "python",
   "pygments_lexer": "ipython3",
   "version": "3.8.5"
  }
 },
 "nbformat": 4,
 "nbformat_minor": 4
}
