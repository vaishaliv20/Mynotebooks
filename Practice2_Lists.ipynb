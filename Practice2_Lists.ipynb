{
 "cells": [
  {
   "cell_type": "markdown",
   "metadata": {},
   "source": [
    "# 1. To interchange first and last elements in a list"
   ]
  },
  {
   "cell_type": "code",
   "execution_count": null,
   "metadata": {},
   "outputs": [],
   "source": [
    "#Approach 1: \n",
    "# Swap function\n",
    "#The last element of the list can be referred as list[-1]. Therefore, we can simply swap list[0] with list[-1]\n",
    "def swapList(newList):\n",
    "     \n",
    "    newList[0], newList[-1] = newList[-1], newList[0]\n",
    " \n",
    "    return newList\n",
    "     \n",
    "# Driver code\n",
    "newList = [12, 35, 9, 56, 24]\n",
    "print(swapList(newList))"
   ]
  },
  {
   "cell_type": "code",
   "execution_count": null,
   "metadata": {},
   "outputs": [],
   "source": [
    "#Approach 2:\n",
    "#Find the length of the list and simply swap the first element with (n-1)th element.\n",
    "#Swap function\n",
    "def swapList(newList):\n",
    "    size = len(newList)\n",
    "     \n",
    "    # Swapping\n",
    "    temp = newList[0]\n",
    "    newList[0] = newList[size - 1]\n",
    "    newList[size - 1] = temp\n",
    "     \n",
    "    return newList\n",
    "     \n",
    "# Driver code\n",
    "newList = [12, 35, 9, 56, 24]\n",
    " \n",
    "print(swapList(newList))"
   ]
  },
  {
   "cell_type": "code",
   "execution_count": null,
   "metadata": {},
   "outputs": [],
   "source": [
    "#Approach 3: \n",
    "#Swap the first and last elements is to use the inbuilt function list.pop().\n",
    "#Pop the first element and store it in a variable. \n",
    "#Similarly, pop the last element and store it in another variable.\n",
    "#Now insert the two popped element at each other’s original position.\n",
    "# Swap function\n",
    "def swapList(list):\n",
    "     \n",
    "    first = list.pop(0)  \n",
    "    last = list.pop(-1)\n",
    "     \n",
    "    list.insert(0, last) \n",
    "    list.append(first)  \n",
    "     \n",
    "    return list\n",
    "     \n",
    "# Driver code\n",
    "newList = [12, 35, 9, 56, 24]\n",
    " \n",
    "print(swapList(newList))"
   ]
  },
  {
   "cell_type": "markdown",
   "metadata": {},
   "source": [
    "# 2. Convert List to List of dictionaries"
   ]
  },
  {
   "cell_type": "code",
   "execution_count": null,
   "metadata": {},
   "outputs": [],
   "source": [
    "#Approach 1: \n",
    "#Using dictionary comprehension + list comprehension\n",
    "# Using zip() + list comprehension\n",
    "  \n",
    "# initializing lists\n",
    "test_list = [\"Gfg\", 3, \"is\", 8, \"Best\", 10, \"for\", 18, \"Geeks\", 33]\n",
    "  \n",
    "# printing original list\n",
    "print(\"The original list : \" + str(test_list))\n",
    "  \n",
    "# initializing key list \n",
    "key_list = [\"name\", \"number\"]\n",
    "  \n",
    "# using list comprehension to perform as shorthand\n",
    "n = len(test_list)\n",
    "res = [{key_list[0]: test_list[idx], key_list[1]: test_list[idx + 1]}\n",
    "       for idx in range(0, n, 2)]\n",
    "  \n",
    "# printing result \n",
    "print(\"The constructed dictionary list : \" + str(res))"
   ]
  },
  {
   "cell_type": "code",
   "execution_count": null,
   "metadata": {},
   "outputs": [],
   "source": [
    "#Approach 2: \n",
    "#Using loop + dictionary comprehension\n",
    "# initializing lists\n",
    "test_list = [\"Gfg\", 3, \"is\", 8, \"Best\", 10, \"for\", 18, \"Geeks\", 33]\n",
    "  \n",
    "# printing original list\n",
    "print(\"The original list : \" + str(test_list))\n",
    "  \n",
    "# initializing key list \n",
    "key_list = [\"name\", \"number\"]\n",
    "  \n",
    "# loop to iterate through elements\n",
    "# using dictionary comprehension\n",
    "# for dictionary construction\n",
    "n = len(test_list)\n",
    "res = []\n",
    "for idx in range(0, n, 2):\n",
    "    res.append({key_list[0]: test_list[idx], key_list[1] : test_list[idx + 1]})\n",
    "# printing result \n",
    "print(\"The constructed dictionary list : \" + str(res))"
   ]
  },
  {
   "cell_type": "markdown",
   "metadata": {},
   "source": [
    "# 3. Extract elements with Frequency greater than K"
   ]
  },
  {
   "cell_type": "code",
   "execution_count": null,
   "metadata": {},
   "outputs": [],
   "source": [
    "#Approach 1:\n",
    "#Using count() + loop\n",
    "#In this, we use count() to get the frequency, and loop is used to iterate for each of elements of List. \n",
    "# initializing list\n",
    "test_list = [4, 6, 4, 3, 3, 4, 3, 7, 8, 8]\n",
    "  \n",
    "# printing string\n",
    "print(\"The original list : \" + str(test_list))\n",
    "  \n",
    "# initializing K \n",
    "K = 2\n",
    "  \n",
    "res = [] \n",
    "for i in test_list: \n",
    "      \n",
    "    # using count() to get count of elements\n",
    "    freq = test_list.count(i) \n",
    "      \n",
    "    # checking if not already entered in results\n",
    "    if freq > K and i not in res: \n",
    "        res.append(i)\n",
    "# printing results \n",
    "print(\"The required elements : \" + str(res))"
   ]
  },
  {
   "cell_type": "code",
   "execution_count": null,
   "metadata": {},
   "outputs": [],
   "source": [
    "#Approach 2:\n",
    "#Using list comprehension + Counter()\n",
    "#In this, we perform the task of counting using Counter() and the iteration part is done inside list comprehension.\n",
    "from collections import Counter\n",
    "  \n",
    "# initializing list\n",
    "test_list = [4, 6, 4, 3, 3, 4, 3, 7, 8, 8]\n",
    "  \n",
    "# printing string\n",
    "print(\"The original list : \" + str(test_list))\n",
    "  \n",
    "# initializing K \n",
    "K = 2\n",
    "  \n",
    "# using list comprehension to bind result\n",
    "res = [ele for ele, cnt in Counter(test_list).items() if cnt > K]\n",
    "  \n",
    "# printing results \n",
    "print(\"The required elements : \" + str(res))"
   ]
  },
  {
   "cell_type": "markdown",
   "metadata": {},
   "source": [
    "# 4. Test if List contains elements in Range.\n",
    "##A lot of times, while working with data, we have a problem in which we need to make sure that a container or a list is having elements in just one range. This has application in Data Domains."
   ]
  },
  {
   "cell_type": "markdown",
   "metadata": {},
   "source": [
    "# all() method:"
   ]
  },
  {
   "cell_type": "code",
   "execution_count": null,
   "metadata": {},
   "outputs": [],
   "source": [
    "#Approach 1:\n",
    "#Using all()\n",
    "#In this we use check operation as a parameter to all() and returns True when all elements in range.\n",
    "# Initializing loop \n",
    "test_list = [4, 5, 6, 7, 3, 9]\n",
    "  \n",
    "# printing original list \n",
    "print(\"The original list is : \" + str(test_list))\n",
    "  \n",
    "# Initialization of range \n",
    "i, j = 3, 10\n",
    "  \n",
    "# Test if List contains elements in Range\n",
    "# using all()\n",
    "res = all(ele >= i and ele < j for ele in test_list) \n",
    "  \n",
    "# printing result \n",
    "print (\"Does list contain all elements in range : \" + str(res))"
   ]
  },
  {
   "cell_type": "code",
   "execution_count": null,
   "metadata": {},
   "outputs": [],
   "source": [
    "#Approach 2:\n",
    "#Using loop\n",
    "#In this, we just check using if condition if element falls in range, and break if we find even one occurrence out of range.\n",
    "# Initializing loop \n",
    "test_list = [4, 5, 6, 7, 3, 9]\n",
    "  \n",
    "# printing original list \n",
    "print(\"The original list is : \" + str(test_list))\n",
    "  \n",
    "# Initialization of range \n",
    "i, j = 3, 10\n",
    "  \n",
    "# Test if List contains elements in Range\n",
    "# using loop\n",
    "res = True\n",
    "for ele in test_list:\n",
    "    if ele < i or ele >= j :\n",
    "        res = False \n",
    "        break\n",
    "#printing result \n",
    "print (\"Does list contain all elements in range : \" + str(res))"
   ]
  },
  {
   "cell_type": "markdown",
   "metadata": {},
   "source": [
    "# 5. Cloning or Copying a list"
   ]
  },
  {
   "cell_type": "code",
   "execution_count": null,
   "metadata": {},
   "outputs": [],
   "source": [
    "#Approach 1: \n",
    "#Using slicing technique \n",
    "#This method is considered when we want to modify a list and also keep a copy of the original. \n",
    "#In this we make a copy of the list itself, along with the reference. This process is also called cloning.\n",
    "# Using the Slice Operator\n",
    "def Cloning(li1):\n",
    "    li_copy = li1[:]\n",
    "    return li_copy\n",
    "   \n",
    "# Driver Code\n",
    "li1 = [4, 8, 2, 10, 15, 18]\n",
    "li2 = Cloning(li1)\n",
    "print(\"Original List:\", li1)\n",
    "print(\"After Cloning:\", li2)"
   ]
  },
  {
   "cell_type": "code",
   "execution_count": null,
   "metadata": {},
   "outputs": [],
   "source": [
    "#Approach 2:\n",
    "#Using the extend() method \n",
    "#The lists can be copied into a new list by using the extend() function. \n",
    "#This appends each element of the iterable object (e.g., another list) to the end of the new list.\n",
    "def Cloning(li1):\n",
    "    li_copy = []\n",
    "    li_copy.extend(li1)\n",
    "    return li_copy\n",
    "   \n",
    "# Driver Code\n",
    "li1 = [4, 8, 2, 10, 15, 18]\n",
    "li2 = Cloning(li1)\n",
    "print(\"Original List:\", li1)\n",
    "print(\"After Cloning:\", li2)"
   ]
  },
  {
   "cell_type": "code",
   "execution_count": null,
   "metadata": {},
   "outputs": [],
   "source": [
    "#Approach 3:\n",
    "#Using list comprehension \n",
    "#The method of list comprehension can be used to copy all the elements individually from one list to another.\n",
    "def Cloning(li1):\n",
    "    li_copy = [i for i in li1]\n",
    "    return li_copy\n",
    "   \n",
    "# Driver Code\n",
    "li1 = [4, 8, 2, 10, 15, 18]\n",
    "li2 = Cloning(li1)\n",
    "print(\"Original List:\", li1)\n",
    "print(\"After Cloning:\", li2)"
   ]
  },
  {
   "cell_type": "code",
   "execution_count": null,
   "metadata": {},
   "outputs": [],
   "source": [
    "#Approach 4:\n",
    "#Using the copy() method \n",
    "#The inbuilt method copy is used to copy all the elements from one list to another.\n",
    "def Cloning(li1):\n",
    "    li_copy =[]\n",
    "    li_copy = li1.copy()\n",
    "    return li_copy\n",
    "   \n",
    "# Driver Code\n",
    "li1 = [4, 8, 2, 10, 15, 18]\n",
    "li2 = Cloning(li1)\n",
    "print(\"Original List:\", li1)\n",
    "print(\"After Cloning:\", li2)"
   ]
  },
  {
   "cell_type": "markdown",
   "metadata": {},
   "source": [
    "# 6. Count occurrences of an element in a list"
   ]
  },
  {
   "cell_type": "code",
   "execution_count": null,
   "metadata": {},
   "outputs": [],
   "source": [
    "#Approach 1:\n",
    "#Using count())\n",
    "#The idea is to use list method count() to count number of occurrences. \n",
    "def countX(lst, x):\n",
    "    return lst.count(x)\n",
    " \n",
    "# Driver Code\n",
    "lst = [8, 6, 8, 10, 8, 20, 10, 8, 8]\n",
    "x = 8\n",
    "print('{} has occurred {} times'.format(x, countX(lst, x)))"
   ]
  },
  {
   "cell_type": "code",
   "execution_count": null,
   "metadata": {},
   "outputs": [],
   "source": [
    "#Approach 2:\n",
    "#Using Counter()\n",
    "#Counter method returns a dictionary with occurrences of all elements as a key-value pair, \n",
    "#where key is the element and value is the number of times that element has occurred.\n",
    "from collections import Counter\n",
    " \n",
    "# declaring the list\n",
    "l = [1, 1, 2, 2, 3, 3, 4, 4, 5, 5]\n",
    " \n",
    "# driver program\n",
    "x = 3\n",
    "d = Counter(l)\n",
    "print('{} has occurred {} times'.format(x, d[x]))"
   ]
  },
  {
   "cell_type": "code",
   "execution_count": null,
   "metadata": {},
   "outputs": [],
   "source": [
    "#Approach 3:\n",
    "#We keep a counter that keeps on increasing if the required element is found in the list.\n",
    "def countX(lst, x):\n",
    "    count = 0\n",
    "    for ele in lst:\n",
    "        if (ele == x):\n",
    "            count = count + 1\n",
    "    return count\n",
    " \n",
    "# Driver Code\n",
    "lst = [8, 6, 8, 10, 8, 20, 10, 8, 8]\n",
    "x = 8\n",
    "print('{} has occurred {} times'.format(x, countX(lst, x)))"
   ]
  },
  {
   "cell_type": "code",
   "execution_count": null,
   "metadata": {},
   "outputs": [],
   "source": []
  },
  {
   "cell_type": "code",
   "execution_count": null,
   "metadata": {},
   "outputs": [],
   "source": []
  },
  {
   "cell_type": "code",
   "execution_count": null,
   "metadata": {},
   "outputs": [],
   "source": []
  },
  {
   "cell_type": "code",
   "execution_count": null,
   "metadata": {},
   "outputs": [],
   "source": []
  },
  {
   "cell_type": "code",
   "execution_count": null,
   "metadata": {},
   "outputs": [],
   "source": []
  }
 ],
 "metadata": {
  "kernelspec": {
   "display_name": "Python 3",
   "language": "python",
   "name": "python3"
  },
  "language_info": {
   "codemirror_mode": {
    "name": "ipython",
    "version": 3
   },
   "file_extension": ".py",
   "mimetype": "text/x-python",
   "name": "python",
   "nbconvert_exporter": "python",
   "pygments_lexer": "ipython3",
   "version": "3.8.5"
  }
 },
 "nbformat": 4,
 "nbformat_minor": 4
}
